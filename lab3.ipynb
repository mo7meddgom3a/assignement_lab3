{
 "cells": [
  {
   "cell_type": "markdown",
   "id": "cf0a3595",
   "metadata": {},
   "source": [
    "# 1 -"
   ]
  },
  {
   "cell_type": "code",
   "execution_count": 14,
   "id": "dc5cdafc",
   "metadata": {
    "scrolled": true
   },
   "outputs": [
    {
     "data": {
      "text/plain": [
       "(1, 2, 3, 4, 5, 6, 7, 8, 9, 3)"
      ]
     },
     "execution_count": 14,
     "metadata": {},
     "output_type": "execute_result"
    }
   ],
   "source": [
    "def add_an_item_to_a_tuple (tup,tup2):    \n",
    "    tup1=list(tup)\n",
    "    tup1.append(tup2)\n",
    "    return tuple(tup1)\n",
    "add_an_item_to_a_tuple((1,2,3,4,5,6,7,8,9),3)"
   ]
  },
  {
   "cell_type": "markdown",
   "id": "2eacade5",
   "metadata": {},
   "source": [
    "# 2-"
   ]
  },
  {
   "cell_type": "code",
   "execution_count": 75,
   "id": "a82a731f",
   "metadata": {},
   "outputs": [
    {
     "data": {
      "text/plain": [
       "15"
      ]
     },
     "execution_count": 75,
     "metadata": {},
     "output_type": "execute_result"
    }
   ],
   "source": [
    "def sum1(l):\n",
    "    total = 0\n",
    "    for i in l :\n",
    "        total += i\n",
    "    return total\n",
    "sum1([1,2,4,8])"
   ]
  },
  {
   "cell_type": "markdown",
   "id": "54a8305e",
   "metadata": {},
   "source": [
    "# 3-"
   ]
  },
  {
   "cell_type": "code",
   "execution_count": 25,
   "id": "2de3c687",
   "metadata": {},
   "outputs": [
    {
     "data": {
      "text/plain": [
       "64"
      ]
     },
     "execution_count": 25,
     "metadata": {},
     "output_type": "execute_result"
    }
   ],
   "source": [
    "def multiply(l):\n",
    "    total = 1\n",
    "    for i in l :\n",
    "        total *= i\n",
    "    return total\n",
    "multiply([1,2,4,8])"
   ]
  },
  {
   "cell_type": "markdown",
   "id": "68a0e265",
   "metadata": {},
   "source": [
    "# 4-"
   ]
  },
  {
   "cell_type": "code",
   "execution_count": 39,
   "id": "30b56759",
   "metadata": {},
   "outputs": [
    {
     "data": {
      "text/plain": [
       "1"
      ]
     },
     "execution_count": 39,
     "metadata": {},
     "output_type": "execute_result"
    }
   ],
   "source": [
    "def smallest_number(lst):\n",
    "    min1 = lst[0]\n",
    "    for i in lst:\n",
    "        if i < min1:\n",
    "            min1 = i\n",
    "    return min1\n",
    "smallest_number([1,2,4,8,5])"
   ]
  },
  {
   "cell_type": "markdown",
   "id": "c8bf8362",
   "metadata": {},
   "source": [
    "# 5-"
   ]
  },
  {
   "cell_type": "code",
   "execution_count": 63,
   "id": "48ddac66",
   "metadata": {},
   "outputs": [
    {
     "data": {
      "text/plain": [
       "12"
      ]
     },
     "execution_count": 63,
     "metadata": {},
     "output_type": "execute_result"
    }
   ],
   "source": [
    "def largest_number(lst):\n",
    "    min1 = lst[0]\n",
    "    for i in lst:\n",
    "        if i > min1:\n",
    "            min1 = i\n",
    "       # print(i)\n",
    "       # print(\"*********\")\n",
    "       # print (min1)\n",
    "       # print(\"////////\")\n",
    "    return min1\n",
    "largest_number([1,2,4,8,5,11,10,9,12])"
   ]
  },
  {
   "cell_type": "markdown",
   "id": "45b6042c",
   "metadata": {},
   "source": [
    "# 6-"
   ]
  },
  {
   "cell_type": "code",
   "execution_count": 65,
   "id": "53e0a903",
   "metadata": {},
   "outputs": [
    {
     "data": {
      "text/plain": [
       "25"
      ]
     },
     "execution_count": 65,
     "metadata": {},
     "output_type": "execute_result"
    }
   ],
   "source": [
    "def number_of_strings(val):\n",
    "    max_len =[]\n",
    "    total = 0\n",
    "    for i in val :\n",
    "        max_len.append(len(i))\n",
    "    for j in max_len:\n",
    "        total += j\n",
    "    return total\n",
    "    \n",
    "number_of_strings([\"Apple\" , \"Grappe\" , \"Maaaango\" , \"Banana\"])\n"
   ]
  },
  {
   "cell_type": "markdown",
   "id": "ab5df4a7",
   "metadata": {},
   "source": [
    "# 7-"
   ]
  },
  {
   "cell_type": "code",
   "execution_count": 67,
   "id": "cac2f54a",
   "metadata": {},
   "outputs": [
    {
     "data": {
      "text/plain": [
       "[1, 2, 4, 8, 5, 11, 10, 9, 12]"
      ]
     },
     "execution_count": 67,
     "metadata": {},
     "output_type": "execute_result"
    }
   ],
   "source": [
    "def copy_a_list(val):\n",
    "    lst = []\n",
    "    for i in val :\n",
    "        lst.append(i)\n",
    "    return lst\n",
    "copy_a_list([1,2,4,8,5,11,10,9,12])"
   ]
  },
  {
   "cell_type": "markdown",
   "id": "b2cfa1d5",
   "metadata": {},
   "source": [
    "# 8-"
   ]
  },
  {
   "cell_type": "code",
   "execution_count": 114,
   "id": "c581cb2d",
   "metadata": {},
   "outputs": [
    {
     "data": {
      "text/plain": [
       "{1, 2, 4, 5, 6, 9}"
      ]
     },
     "execution_count": 114,
     "metadata": {},
     "output_type": "execute_result"
    }
   ],
   "source": [
    "def remove_item_from_a_given_set(val,val2):\n",
    "    set1=[]\n",
    "    for i in val :\n",
    "        if i == val2:\n",
    "            continue\n",
    "        set1.append(i)\n",
    "    return set(set1)\n",
    "    \n",
    "remove_item_from_a_given_set({1,2,5,4,8,6,9},8) "
   ]
  },
  {
   "cell_type": "markdown",
   "id": "7d032bb7",
   "metadata": {},
   "source": [
    "# 9-"
   ]
  },
  {
   "cell_type": "code",
   "execution_count": 134,
   "id": "fb21cc58",
   "metadata": {},
   "outputs": [
    {
     "name": "stdout",
     "output_type": "stream",
     "text": [
      " Is it a subset of another : True\n"
     ]
    }
   ],
   "source": [
    "def check_if_a_set_is_a_subset_of_another_set(val,val2):\n",
    "        \n",
    "        print ( \" Is it a subset of another :\",val2<=val)\n",
    "    \n",
    "check_if_a_set_is_a_subset_of_another_set({\"Apple\" , \"Grappe\" , \"Maaaango\" , \"Banana\"},{\"Banana\"})"
   ]
  },
  {
   "cell_type": "markdown",
   "id": "6144ffc4",
   "metadata": {},
   "source": [
    "# 10-"
   ]
  },
  {
   "cell_type": "code",
   "execution_count": 140,
   "id": "adcf6f03",
   "metadata": {},
   "outputs": [
    {
     "data": {
      "text/plain": [
       "set()"
      ]
     },
     "execution_count": 140,
     "metadata": {},
     "output_type": "execute_result"
    }
   ],
   "source": [
    "def remove_all_elements(val):\n",
    "    val.clear()\n",
    "    return val\n",
    "remove_all_elements({\"Apple\" , \"Grappe\" , \"Maaaango\" , \"Banana\"})\n"
   ]
  },
  {
   "cell_type": "markdown",
   "id": "bb261a3e",
   "metadata": {},
   "source": [
    "# 11-"
   ]
  },
  {
   "cell_type": "code",
   "execution_count": 55,
   "id": "96ce0a29",
   "metadata": {},
   "outputs": [
    {
     "name": "stdout",
     "output_type": "stream",
     "text": [
      " the minimum number is : 1\n",
      " the maximum number is : 8\n"
     ]
    }
   ],
   "source": [
    "def maximum_and_minimum_values_in_a_set(lst):\n",
    "    min1 =list(lst)\n",
    "    min2 = min1[0]\n",
    "    min3 = min1[0]\n",
    "    for i in lst:\n",
    "        if i < min2:\n",
    "            min2 = i\n",
    "    print(\" the minimum number is :\",min2)\n",
    "   \n",
    "    for i in lst:\n",
    "        if i > min3:\n",
    "            min3 = i\n",
    "    print(\" the maximum number is :\",min3)\n",
    "maximum_and_minimum_values_in_a_set({1,2,4,8,5})"
   ]
  },
  {
   "cell_type": "markdown",
   "id": "5717b166",
   "metadata": {},
   "source": [
    "# 12-"
   ]
  },
  {
   "cell_type": "code",
   "execution_count": null,
   "id": "639d1845",
   "metadata": {},
   "outputs": [],
   "source": [
    "def find_the_index_of_an_item_in_a_tuple (val,val2):\n",
    "    x = val.index(val2)\n",
    "    return x\n",
    "find_the_index_of_an_item_in_a_tuple((1,2,3,4,5,6,7,8,9),8)"
   ]
  },
  {
   "cell_type": "markdown",
   "id": "e4f51aca",
   "metadata": {},
   "source": [
    "# 13 -"
   ]
  },
  {
   "cell_type": "code",
   "execution_count": 62,
   "id": "d1e9bfc4",
   "metadata": {},
   "outputs": [
    {
     "data": {
      "text/plain": [
       "{18, 'mohamed '}"
      ]
     },
     "execution_count": 62,
     "metadata": {},
     "output_type": "execute_result"
    }
   ],
   "source": [
    "x = (\"mohamed \",18)"
   ]
  },
  {
   "cell_type": "code",
   "execution_count": 82,
   "id": "2af729a3",
   "metadata": {},
   "outputs": [
    {
     "name": "stdout",
     "output_type": "stream",
     "text": [
      "{'lily': 'mo', 'fsf': 8, 'o': 5, 1: 8}\n"
     ]
    }
   ],
   "source": [
    "def convert_a_tuple_to_a_dictionary (val):\n",
    "    dic = dict((x,y)for x , y in val)\n",
    "        \n",
    "    print (dic)\n",
    "convert_a_tuple_to_a_dictionary(((\"lily\",\"mo\"),(\"fsf\",8),(\"o\",5),(1,8)))"
   ]
  },
  {
   "cell_type": "markdown",
   "id": "6338e35a",
   "metadata": {},
   "source": [
    "# 14-"
   ]
  },
  {
   "cell_type": "code",
   "execution_count": 60,
   "id": "1946b1cd",
   "metadata": {},
   "outputs": [
    {
     "name": "stdout",
     "output_type": "stream",
     "text": [
      "['lily', 'mo']\n",
      "['fsf', 8]\n",
      "['o', 5]\n",
      "[1, 8]\n"
     ]
    }
   ],
   "source": [
    "def unzip_a_list_of_tuples(val):\n",
    "    for i in val :  \n",
    "        print (list(i))\n",
    "unzip_a_list_of_tuples([(\"lily\",\"mo\"),(\"fsf\",8),(\"o\",5),(1,8)])"
   ]
  },
  {
   "cell_type": "markdown",
   "id": "5ed09d4d",
   "metadata": {},
   "source": [
    "# 15 -"
   ]
  },
  {
   "cell_type": "code",
   "execution_count": 19,
   "id": "e0724e24",
   "metadata": {},
   "outputs": [
    {
     "name": "stdout",
     "output_type": "stream",
     "text": [
      "[(1, 8), ('o', 5), ('fsf', 8), ('lily', 'mo')]\n"
     ]
    }
   ],
   "source": [
    "def reverse_tuple(val):\n",
    "    lst = list(val)\n",
    "    lst.reverse()\n",
    "    print (lst)\n",
    "reverse_tuple(x)"
   ]
  },
  {
   "cell_type": "markdown",
   "id": "bda96e8a",
   "metadata": {},
   "source": [
    "# 16-"
   ]
  },
  {
   "cell_type": "code",
   "execution_count": 23,
   "id": "2ee28ace",
   "metadata": {
    "scrolled": true
   },
   "outputs": [
    {
     "name": "stdout",
     "output_type": "stream",
     "text": [
      "{'lily': 'mo', 'fsf': 8, 'o': 5, 1: 8}\n"
     ]
    }
   ],
   "source": [
    "def convert_a_list_of_tuple_to_a_dictionary (val):\n",
    "    dic = dict((x,y)for x , y in val)\n",
    "        \n",
    "    print (dic)\n",
    "convert_a_list_of_tuple_to_a_dictionary([(\"lily\",\"mo\"),(\"fsf\",8),(\"o\",5),(1,8)])"
   ]
  },
  {
   "cell_type": "markdown",
   "id": "9a2d81b7",
   "metadata": {},
   "source": [
    "# 17-"
   ]
  },
  {
   "cell_type": "code",
   "execution_count": 87,
   "id": "c2342e15",
   "metadata": {},
   "outputs": [
    {
     "name": "stdout",
     "output_type": "stream",
     "text": [
      "[('lily', 120), ('fsf', 120), ('o', 120), (1, 120)]\n"
     ]
    }
   ],
   "source": [
    "def replace_the_last_value_of_tuples_in_a_list (val1 ,va2):\n",
    "    print (list(i[:-1] + (va2,) for i in val1 ))\n",
    "        \n",
    "    \n",
    "replace_the_last_value_of_tuples_in_a_list([(\"lily\",\"mo\"),(\"fsf\",8),(\"o\",5),(1,8)],120)\n",
    "        "
   ]
  },
  {
   "cell_type": "markdown",
   "id": "6e250af2",
   "metadata": {},
   "source": [
    "# 18-"
   ]
  },
  {
   "cell_type": "code",
   "execution_count": null,
   "id": "5100a130",
   "metadata": {},
   "outputs": [],
   "source": [
    "def l (val):\n",
    "    len_val = len(val)\n",
    "    for i in range(0,len_val):"
   ]
  }
 ],
 "metadata": {
  "kernelspec": {
   "display_name": "Python 3 (ipykernel)",
   "language": "python",
   "name": "python3"
  },
  "language_info": {
   "codemirror_mode": {
    "name": "ipython",
    "version": 3
   },
   "file_extension": ".py",
   "mimetype": "text/x-python",
   "name": "python",
   "nbconvert_exporter": "python",
   "pygments_lexer": "ipython3",
   "version": "3.8.8"
  }
 },
 "nbformat": 4,
 "nbformat_minor": 5
}
